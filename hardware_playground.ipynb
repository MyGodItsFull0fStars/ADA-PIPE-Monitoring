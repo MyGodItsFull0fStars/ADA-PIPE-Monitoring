{
 "cells": [
  {
   "cell_type": "code",
   "execution_count": 1,
   "metadata": {},
   "outputs": [],
   "source": [
    "import psutil\n",
    "import hash_utils\n",
    "from device_utils import MonitoredDevice\n"
   ]
  },
  {
   "cell_type": "code",
   "execution_count": 2,
   "metadata": {},
   "outputs": [
    {
     "data": {
      "text/plain": [
       "'005e4662da6d1b32a0204dfa1c4ac21c4327d71c'"
      ]
     },
     "execution_count": 2,
     "metadata": {},
     "output_type": "execute_result"
    }
   ],
   "source": [
    "md = MonitoredDevice('test1', 'asdf', 9100)\n",
    "md.get_id()\n"
   ]
  },
  {
   "cell_type": "code",
   "execution_count": 3,
   "metadata": {},
   "outputs": [
    {
     "data": {
      "text/plain": [
       "'005e4662da6d1b32a0204dfa1c4ac21c4327d71c'"
      ]
     },
     "execution_count": 3,
     "metadata": {},
     "output_type": "execute_result"
    }
   ],
   "source": [
    "md2 = MonitoredDevice('test', 'asdf', 9100, {'test': 1})\n",
    "md2.get_id()"
   ]
  },
  {
   "cell_type": "code",
   "execution_count": 4,
   "metadata": {},
   "outputs": [
    {
     "data": {
      "text/plain": [
       "str"
      ]
     },
     "execution_count": 4,
     "metadata": {},
     "output_type": "execute_result"
    }
   ],
   "source": [
    "type(hash_utils.get_hash({'data': {\n",
    "    'bla': 2,\n",
    "    'test': \"234\"\n",
    "}}))"
   ]
  }
 ],
 "metadata": {
  "interpreter": {
   "hash": "85dae35acb68631356537a0b6725b784d3010081eefc3df3095f3bef9ec888f3"
  },
  "kernelspec": {
   "display_name": "Python 3.9.7 ('scheduler')",
   "language": "python",
   "name": "python3"
  },
  "language_info": {
   "codemirror_mode": {
    "name": "ipython",
    "version": 3
   },
   "file_extension": ".py",
   "mimetype": "text/x-python",
   "name": "python",
   "nbconvert_exporter": "python",
   "pygments_lexer": "ipython3",
   "version": "3.9.7"
  },
  "orig_nbformat": 4
 },
 "nbformat": 4,
 "nbformat_minor": 2
}
